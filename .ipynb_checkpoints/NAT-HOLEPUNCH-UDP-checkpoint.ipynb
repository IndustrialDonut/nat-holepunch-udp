{
 "cells": [
  {
   "cell_type": "code",
   "execution_count": 1,
   "id": "125b01b4-a471-4d94-8c92-fdbf5745c135",
   "metadata": {},
   "outputs": [],
   "source": [
    "import socket\n",
    "import time\n",
    "import platform"
   ]
  },
  {
   "cell_type": "code",
   "execution_count": 2,
   "id": "55b6fdff-0849-4fe5-b6f2-2f3820299cde",
   "metadata": {},
   "outputs": [
    {
     "data": {
      "text/plain": [
       "9"
      ]
     },
     "execution_count": 2,
     "metadata": {},
     "output_type": "execute_result"
    }
   ],
   "source": [
    "# Take port to OPEN and ip to allow from the other side -> send a packet to create a NAT record.\n",
    "# At least with my wifi-extender/router, this only has to be done once\n",
    "# (infrequently at least, perhaps until the port gets remapped to another local device)\n",
    "PORT = 7654\n",
    "PARTNER_PUBLIC_IP = '10.0.0.81'\n",
    "\n",
    "# create socket for UDP\n",
    "s = socket.socket(socket.AF_INET, socket.SOCK_DGRAM)\n",
    "\n",
    "# bind to the port you wish to receive and send from\n",
    "s.bind(('', PORT)) # ip doesn't matter here unless you want to limit to a particular device interface\n",
    "\n",
    "# open up a hole in your NAT\n",
    "    # at least with my wifi extender, the port to send to in opening up the hole does not matter.\n",
    "    # other routers may require the source and destination ip:port to match.\n",
    "s.sendto(b'holepunch', (PARTNER_PUBLIC_IP, PORT))"
   ]
  },
  {
   "cell_type": "code",
   "execution_count": null,
   "id": "ed543797-7c59-4189-86f6-c46b813319d1",
   "metadata": {},
   "outputs": [],
   "source": [
    "SEND = 0x1\n",
    "RECV = 0x2\n",
    "#ECHO = 0x4\n",
    "\n",
    "MODE = SEND # default SEND | RECV\n",
    "message = b'FROM: ' + platform.uname().__str__().encode('ascii')\n",
    "\n",
    "with s:\n",
    "    while True:\n",
    "        time.sleep(0.1)\n",
    "        if MODE & SEND:\n",
    "            s.sendto(message, (PARTNER_PUBLIC_IP, PORT))\n",
    "        if MODE & RECV:\n",
    "            r = s.recvfrom(1024)\n",
    "            print(r)"
   ]
  },
  {
   "cell_type": "code",
   "execution_count": null,
   "id": "9c3cde8e-56da-4ec5-a8e4-03d0c281bfeb",
   "metadata": {},
   "outputs": [],
   "source": []
  }
 ],
 "metadata": {
  "kernelspec": {
   "display_name": "Python 3 (ipykernel)",
   "language": "python",
   "name": "python3"
  },
  "language_info": {
   "codemirror_mode": {
    "name": "ipython",
    "version": 3
   },
   "file_extension": ".py",
   "mimetype": "text/x-python",
   "name": "python",
   "nbconvert_exporter": "python",
   "pygments_lexer": "ipython3",
   "version": "3.11.4"
  }
 },
 "nbformat": 4,
 "nbformat_minor": 5
}
